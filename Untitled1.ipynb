{
 "cells": [
  {
   "cell_type": "code",
   "execution_count": 1,
   "id": "15a0d755-4968-4959-8680-993311ec8194",
   "metadata": {},
   "outputs": [
    {
     "name": "stdout",
     "output_type": "stream",
     "text": [
      "Mean Squared Error: 3.3881317890172014e-21\n",
      "Predicted price for a house with 2000 square feet, 3 bedrooms, and 2 bathrooms: $300000.00\n"
     ]
    },
    {
     "name": "stderr",
     "output_type": "stream",
     "text": [
      "C:\\Users\\Solomon\\.idlerc\\Anaconda\\Lib\\site-packages\\sklearn\\base.py:439: UserWarning: X does not have valid feature names, but LinearRegression was fitted with feature names\n",
      "  warnings.warn(\n"
     ]
    }
   ],
   "source": [
    "import numpy as np\n",
    "import pandas as pd\n",
    "from sklearn.model_selection import train_test_split\n",
    "from sklearn.linear_model import LinearRegression\n",
    "from sklearn.metrics import mean_squared_error\n",
    "\n",
    "# Sample data creation\n",
    "# Assuming you have a DataFrame `df` with columns 'SquareFootage', 'Bedrooms', 'Bathrooms', 'Price'\n",
    "data = {\n",
    "    'SquareFootage': [1000, 1500, 2000, 2500, 3000, 3500],\n",
    "    'Bedrooms': [3, 2, 3, 4, 3, 5],\n",
    "    'Bathrooms': [2, 1, 2, 3, 2, 4],\n",
    "    'Price': [200000, 250000, 300000, 350000, 400000, 450000]\n",
    "}\n",
    "\n",
    "df = pd.DataFrame(data)\n",
    "\n",
    "# Feature matrix and target array\n",
    "X = df[['SquareFootage', 'Bedrooms', 'Bathrooms']]\n",
    "y = df['Price']\n",
    "\n",
    "# Splitting the dataset into training and testing sets\n",
    "X_train, X_test, y_train, y_test = train_test_split(X, y, test_size=0.2, random_state=42)\n",
    "\n",
    "# Creating and training the Linear Regression model\n",
    "model = LinearRegression()\n",
    "model.fit(X_train, y_train)\n",
    "\n",
    "# Making predictions\n",
    "predictions = model.predict(X_test)\n",
    "\n",
    "# Evaluating the model\n",
    "mse = mean_squared_error(y_test, predictions)\n",
    "print(\"Mean Squared Error:\", mse)\n",
    "\n",
    "# Example of making a prediction\n",
    "# Predict the price of a house with 2000 square feet, 3 bedrooms, and 2 bathrooms\n",
    "example_features = np.array([[2000, 3, 2]])  # The input should match the feature order\n",
    "predicted_price = model.predict(example_features)\n",
    "print(f\"Predicted price for a house with 2000 square feet, 3 bedrooms, and 2 bathrooms: ${predicted_price[0]:.2f}\")"
   ]
  },
  {
   "cell_type": "code",
   "execution_count": 3,
   "id": "7c1d7b00-bcd1-4a7d-83ac-cf712227a452",
   "metadata": {},
   "outputs": [
    {
     "name": "stdout",
     "output_type": "stream",
     "text": [
      "{'SquareFootage': [1000, 1500, 2000, 2500, 3000, 3500, 4000, 4500], 'Bedrooms': [2, 3, 2, 4, 3, 5, 4, 5], 'Bathrooms': [1, 2, 2, 3, 2, 4, 3, 4], 'Price': [200000, 250000, 300000, 350000, 400000, 450000, 500000, 550000]}\n"
     ]
    }
   ],
   "source": [
    "import pandas as pd\n",
    "\n",
    "# Creating a synthetic dataset\n",
    "data = {\n",
    "    'SquareFootage': [1000, 1500, 2000, 2500, 3000, 3500, 4000, 4500],\n",
    "    'Bedrooms': [2, 3, 2, 4, 3, 5, 4, 5],\n",
    "    'Bathrooms': [1, 2, 2, 3, 2, 4, 3, 4],\n",
    "    'Price': [200000, 250000, 300000, 350000, 400000, 450000, 500000, 550000]\n",
    "}\n",
    "\n",
    "df = pd.DataFrame(data)\n",
    "\n",
    "# Saving the dataset to a CSV file\n",
    "df.to_csv(r'C:\\Users\\Solomon\\Downloads\\Solomon.csv', index=False)\n",
    "print(data)"
   ]
  },
  {
   "cell_type": "code",
   "execution_count": 4,
   "id": "940e5f10-911a-40e9-9991-efca0e8c4863",
   "metadata": {},
   "outputs": [
    {
     "name": "stdout",
     "output_type": "stream",
     "text": [
      "Mean Squared Error: 8.470329472543003e-21\n",
      "Predicted price for a house with 2000 square feet, 3 bedrooms, and 2 bathrooms: $300,000.00\n"
     ]
    },
    {
     "name": "stderr",
     "output_type": "stream",
     "text": [
      "C:\\Users\\Solomon\\.idlerc\\Anaconda\\Lib\\site-packages\\sklearn\\base.py:439: UserWarning: X does not have valid feature names, but LinearRegression was fitted with feature names\n",
      "  warnings.warn(\n"
     ]
    }
   ],
   "source": [
    "import pandas as pd\n",
    "from sklearn.model_selection import train_test_split\n",
    "from sklearn.linear_model import LinearRegression\n",
    "from sklearn.metrics import mean_squared_error\n",
    "\n",
    "# Load the dataset\n",
    "df = pd.read_csv(r'C:\\Users\\Solomon\\Downloads\\Solomon.csv')\n",
    "\n",
    "# Separate features and target variable\n",
    "X = df[['SquareFootage', 'Bedrooms', 'Bathrooms']]\n",
    "y = df['Price']\n",
    "\n",
    "# Split the data into training and testing sets\n",
    "X_train, X_test, y_train, y_test = train_test_split(X, y, test_size=0.2, random_state=42)\n",
    "\n",
    "# Initialize and train the Linear Regression model\n",
    "model = LinearRegression()\n",
    "model.fit(X_train, y_train)\n",
    "\n",
    "# Make predictions and evaluate the model\n",
    "predictions = model.predict(X_test)\n",
    "mse = mean_squared_error(y_test, predictions)\n",
    "print(\"Mean Squared Error:\", mse)\n",
    "\n",
    "# Example prediction\n",
    "example_features = [[2000, 3, 2]]  # 2000 sqft, 3 bedrooms, 2 bathrooms\n",
    "predicted_price = model.predict(example_features)\n",
    "print(f\"Predicted price for a house with 2000 square feet, 3 bedrooms, and 2 bathrooms: ${predicted_price[0]:,.2f}\")"
   ]
  },
  {
   "cell_type": "code",
   "execution_count": null,
   "id": "8d0c4fd4-fa5a-4fe3-be88-f596c00fdec3",
   "metadata": {},
   "outputs": [],
   "source": []
  }
 ],
 "metadata": {
  "kernelspec": {
   "display_name": "Python 3 (ipykernel)",
   "language": "python",
   "name": "python3"
  },
  "language_info": {
   "codemirror_mode": {
    "name": "ipython",
    "version": 3
   },
   "file_extension": ".py",
   "mimetype": "text/x-python",
   "name": "python",
   "nbconvert_exporter": "python",
   "pygments_lexer": "ipython3",
   "version": "3.11.7"
  }
 },
 "nbformat": 4,
 "nbformat_minor": 5
}
